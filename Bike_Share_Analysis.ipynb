{
 "cells": [
  {
   "cell_type": "markdown",
   "metadata": {},
   "source": [
    "# 2016 US Bike Share Activity Snapshot\n",
    "\n",
    "## Table of Contents\n",
    "- [Introduction](#intro)\n",
    "- [Posing Questions](#pose_questions)\n",
    "- [Data Collection and Wrangling](#wrangling)\n",
    "  - [Condensing the Trip Data](#condensing)\n",
    "- [Exploratory Data Analysis](#eda)\n",
    "  - [Statistics](#statistics)\n",
    "  - [Visualizations](#visualizations)\n",
    "- [Performing Your Own Analysis](#eda_continued)\n",
    "- [Conclusions](#conclusions)\n",
    "\n",
    "<a id='intro'></a>\n",
    "## Introduction\n",
    "\n",
    "> **Tip**: Quoted sections like this will provide helpful instructions on how to navigate and use a Jupyter notebook.\n",
    "\n",
    "Over the past decade, bicycle-sharing systems have been growing in number and popularity in cities across the world. Bicycle-sharing systems allow users to rent bicycles for short trips, typically 30 minutes or less. Thanks to the rise in information technologies, it is easy for a user of the system to access a dock within the system to unlock or return bicycles. These technologies also provide a wealth of data that can be used to explore how these bike-sharing systems are used.\n",
    "\n",
    "In this project, you will perform an exploratory analysis on data provided by [Motivate](https://www.motivateco.com/), a bike-share system provider for many major cities in the United States. You will compare the system usage between three large cities: New York City, Chicago, and Washington, DC. You will also see if there are any differences within each system for those users that are registered, regular users and those users that are short-term, casual users."
   ]
  },
  {
   "cell_type": "markdown",
   "metadata": {},
   "source": [
    "<a id='pose_questions'></a>\n",
    "## Posing Questions\n",
    "\n",
    "Before looking at the bike sharing data, you should start by asking questions you might want to understand about the bike share data. Consider, for example, if you were working for Motivate. What kinds of information would you want to know about in order to make smarter business decisions? If you were a user of the bike-share service, what factors might influence how you would want to use the service?\n",
    "\n",
    "**Question 1**: Write at least two questions related to bike sharing that you think could be answered by data.\n",
    "\n",
    "**Answer**: How many bikes are being used everyday?\n",
    "           Do we see increase or decrease of bike sharing based on season? \n",
    "\n",
    "> **Tip**: If you double click on this cell, you will see the text change so that all of the formatting is removed. This allows you to edit this block of text. This block of text is written using [Markdown](http://daringfireball.net/projects/markdown/syntax), which is a way to format text using headers, links, italics, and many other options using a plain-text syntax. You will also use Markdown later in the Nanodegree program. Use **Shift** + **Enter** or **Shift** + **Return** to run the cell and show its rendered form."
   ]
  },
  {
   "cell_type": "markdown",
   "metadata": {},
   "source": [
    "<a id='wrangling'></a>\n",
    "## Data Collection and Wrangling\n",
    "\n",
    "Now it's time to collect and explore our data. In this project, we will focus on the record of individual trips taken in 2016 from our selected cities: New York City, Chicago, and Washington, DC. Each of these cities has a page where we can freely download the trip data.:\n",
    "\n",
    "- New York City (Citi Bike): [Link](https://www.citibikenyc.com/system-data)\n",
    "- Chicago (Divvy): [Link](https://www.divvybikes.com/system-data)\n",
    "- Washington, DC (Capital Bikeshare): [Link](https://www.capitalbikeshare.com/system-data)\n",
    "\n",
    "If you visit these pages, you will notice that each city has a different way of delivering its data. Chicago updates with new data twice a year, Washington DC is quarterly, and New York City is monthly. **However, you do not need to download the data yourself.** The data has already been collected for you in the `/data/` folder of the project files. While the original data for 2016 is spread among multiple files for each city, the files in the `/data/` folder collect all of the trip data for the year into one file per city. Some data wrangling of inconsistencies in timestamp format within each city has already been performed for you. In addition, a random 2% sample of the original data is taken to make the exploration more manageable. \n",
    "\n",
    "**Question 2**: However, there is still a lot of data for us to investigate, so it's a good idea to start off by looking at one entry from each of the cities we're going to analyze. Run the first code cell below to load some packages and functions that you'll be using in your analysis. Then, complete the second code cell to print out the first trip recorded from each of the cities (the second line of each data file).\n",
    "\n",
    "> **Tip**: You can run a code cell like you formatted Markdown cells above by clicking on the cell and using the keyboard shortcut **Shift** + **Enter** or **Shift** + **Return**. Alternatively, a code cell can be executed using the **Play** button in the toolbar after selecting it. While the cell is running, you will see an asterisk in the message to the left of the cell, i.e. `In [*]:`. The asterisk will change into a number to show that execution has completed, e.g. `In [1]`. If there is output, it will show up as `Out [1]:`, with an appropriate number to match the \"In\" number."
   ]
  },
  {
   "cell_type": "code",
   "execution_count": 1,
   "metadata": {
    "collapsed": true
   },
   "outputs": [],
   "source": [
    "## import all necessary packages and functions.\n",
    "import csv # read and write csv files\n",
    "from datetime import datetime # operations to parse dates\n",
    "from pprint import pprint # use to print data structures like dictionaries in\n",
    "                          # a nicer way than the base print function.\n",
    "import matplotlib.pyplot as plt    # use to generate histrogram and bar charts\n",
    "import numpy as np #use to x-axis co-ordinates\n",
    "import calendar # used to genarate days of week"
   ]
  },
  {
   "cell_type": "code",
   "execution_count": 36,
   "metadata": {},
   "outputs": [
    {
     "name": "stdout",
     "output_type": "stream",
     "text": [
      "\n",
      "City: NYC\n",
      "OrderedDict([('tripduration', '839'),\n",
      "             ('starttime', '1/1/2016 00:09:55'),\n",
      "             ('stoptime', '1/1/2016 00:23:54'),\n",
      "             ('start station id', '532'),\n",
      "             ('start station name', 'S 5 Pl & S 4 St'),\n",
      "             ('start station latitude', '40.710451'),\n",
      "             ('start station longitude', '-73.960876'),\n",
      "             ('end station id', '401'),\n",
      "             ('end station name', 'Allen St & Rivington St'),\n",
      "             ('end station latitude', '40.72019576'),\n",
      "             ('end station longitude', '-73.98997825'),\n",
      "             ('bikeid', '17109'),\n",
      "             ('usertype', 'Customer'),\n",
      "             ('birth year', ''),\n",
      "             ('gender', '0')])\n",
      "\n",
      "City: Chicago\n",
      "OrderedDict([('trip_id', '9080545'),\n",
      "             ('starttime', '3/31/2016 23:30'),\n",
      "             ('stoptime', '3/31/2016 23:46'),\n",
      "             ('bikeid', '2295'),\n",
      "             ('tripduration', '926'),\n",
      "             ('from_station_id', '156'),\n",
      "             ('from_station_name', 'Clark St & Wellington Ave'),\n",
      "             ('to_station_id', '166'),\n",
      "             ('to_station_name', 'Ashland Ave & Wrightwood Ave'),\n",
      "             ('usertype', 'Subscriber'),\n",
      "             ('gender', 'Male'),\n",
      "             ('birthyear', '1990')])\n",
      "\n",
      "City: Washington\n",
      "OrderedDict([('Duration (ms)', '427387'),\n",
      "             ('Start date', '3/31/2016 22:57'),\n",
      "             ('End date', '3/31/2016 23:04'),\n",
      "             ('Start station number', '31602'),\n",
      "             ('Start station', 'Park Rd & Holmead Pl NW'),\n",
      "             ('End station number', '31207'),\n",
      "             ('End station', 'Georgia Ave and Fairmont St NW'),\n",
      "             ('Bike number', 'W20842'),\n",
      "             ('Member Type', 'Registered')])\n"
     ]
    }
   ],
   "source": [
    "def print_first_point(filename):\n",
    "    \"\"\"\n",
    "    This function prints and returns the first data point (second row) from\n",
    "    a csv file that includes a header row.\n",
    "    \"\"\"\n",
    "    # print city name for reference\n",
    "    city = filename.split('-')[0].split('/')[-1]\n",
    "    print('\\nCity: {}'.format(city))\n",
    "    \n",
    "    with open(filename, 'r') as f_in:\n",
    "        ## TODO: Use the csv library to set up a DictReader object. ##\n",
    "        ## see https://docs.python.org/3/library/csv.html           ##\n",
    "        trip_reader = csv.DictReader(f_in)\n",
    "        \n",
    "        ## TODO: Use a function on the DictReader object to read the     ##\n",
    "        ## first trip from the data file and store it in a variable.     ##\n",
    "        ## see https://docs.python.org/3/library/csv.html#reader-objects ##\n",
    "        first_trip = next(trip_reader)\n",
    "        \n",
    "        ## TODO: Use the pprint library to print the first trip. ##\n",
    "        ## see https://docs.python.org/3/library/pprint.html     ##\n",
    "        pprint(first_trip)\n",
    "        \n",
    "    # output city name and first trip for later testing\n",
    "    return (city, first_trip)\n",
    "\n",
    "# list of files for each city\n",
    "data_files = ['./data/NYC-CitiBike-2016.csv',\n",
    "              './data/Chicago-Divvy-2016.csv',\n",
    "              './data/Washington-CapitalBikeshare-2016.csv',]\n",
    "\n",
    "# print the first trip from each file, store in dictionary\n",
    "example_trips = {}\n",
    "for data_file in data_files:\n",
    "    city, first_trip = print_first_point(data_file)\n",
    "    example_trips[city] = first_trip"
   ]
  },
  {
   "cell_type": "markdown",
   "metadata": {},
   "source": [
    "If everything has been filled out correctly, you should see below the printout of each city name (which has been parsed from the data file name) that the first trip has been parsed in the form of a dictionary. When you set up a `DictReader` object, the first row of the data file is normally interpreted as column names. Every other row in the data file will use those column names as keys, as a dictionary is generated for each row.\n",
    "\n",
    "This will be useful since we can refer to quantities by an easily-understandable label instead of just a numeric index. For example, if we have a trip stored in the variable `row`, then we would rather get the trip duration from `row['duration']` instead of `row[0]`.\n",
    "\n",
    "<a id='condensing'></a>\n",
    "### Condensing the Trip Data\n",
    "\n",
    "It should also be observable from the above printout that each city provides different information. Even where the information is the same, the column names and formats are sometimes different. To make things as simple as possible when we get to the actual exploration, we should trim and clean the data. Cleaning the data makes sure that the data formats across the cities are consistent, while trimming focuses only on the parts of the data we are most interested in to make the exploration easier to work with.\n",
    "\n",
    "You will generate new data files with five values of interest for each trip: trip duration, starting month, starting hour, day of the week, and user type. Each of these may require additional wrangling depending on the city:\n",
    "\n",
    "- **Duration**: This has been given to us in seconds (New York, Chicago) or milliseconds (Washington). A more natural unit of analysis will be if all the trip durations are given in terms of minutes.\n",
    "- **Month**, **Hour**, **Day of Week**: Ridership volume is likely to change based on the season, time of day, and whether it is a weekday or weekend. Use the start time of the trip to obtain these values. The New York City data includes the seconds in their timestamps, while Washington and Chicago do not. The [`datetime`](https://docs.python.org/3/library/datetime.html) package will be very useful here to make the needed conversions.\n",
    "- **User Type**: It is possible that users who are subscribed to a bike-share system will have different patterns of use compared to users who only have temporary passes. Washington divides its users into two types: 'Registered' for users with annual, monthly, and other longer-term subscriptions, and 'Casual', for users with 24-hour, 3-day, and other short-term passes. The New York and Chicago data uses 'Subscriber' and 'Customer' for these groups, respectively. For consistency, you will convert the Washington labels to match the other two.\n",
    "\n",
    "\n",
    "**Question 3a**: Complete the helper functions in the code cells below to address each of the cleaning tasks described above."
   ]
  },
  {
   "cell_type": "code",
   "execution_count": 37,
   "metadata": {
    "collapsed": true
   },
   "outputs": [],
   "source": [
    "def duration_in_mins(datum, city):\n",
    "    \"\"\"\n",
    "    Takes as input a dictionary containing info about a single trip (datum) and\n",
    "    its origin city (city) and returns the trip duration in units of minutes.\n",
    "    \n",
    "    Remember that Washington is in terms of milliseconds while Chicago and NYC\n",
    "    are in terms of seconds. \n",
    "    \n",
    "    HINT: The csv module reads in all of the data as strings, including numeric\n",
    "    values. You will need a function to convert the strings into an appropriate\n",
    "    numeric type when making your transformations.\n",
    "    see https://docs.python.org/3/library/functio\n",
    "    ns.html\n",
    "    \"\"\"\n",
    "    \n",
    "    if city in ('NYC','Chicago'):\n",
    "        time_in_mints = float(datum['tripduration']) / 60\n",
    "    else :\n",
    "        time_in_mints = float(datum['Duration (ms)']) * 0.0000166667\n",
    "\n",
    "    return time_in_mints\n",
    "\n",
    "\n",
    "# Some tests to check that your code works. There should be no output if all of\n",
    "# the assertions pass. The `example_trips` dictionary was obtained from when\n",
    "# you printed the first trip from each of the original data files.\n",
    "tests = {'NYC': 13.9833,\n",
    "         'Chicago': 15.4333,\n",
    "         'Washington': 7.1231}\n",
    "\n",
    "for city in tests:\n",
    "   assert abs(duration_in_mins(example_trips[city], city) - tests[city]) < .001"
   ]
  },
  {
   "cell_type": "code",
   "execution_count": 40,
   "metadata": {
    "collapsed": true
   },
   "outputs": [],
   "source": [
    "def time_of_trip(datum, city):\n",
    "    \"\"\"\n",
    "    Takes as input a dictionary containing info about a single trip (datum) and\n",
    "    its origin city (city) and returns the month, hour, and day of the week in\n",
    "    which the trip was made.\n",
    "    \n",
    "    Remember that NYC includes seconds, while Washington and Chicago do not.\n",
    "    \n",
    "    HINT: You should use the datetime module to parse the original date\n",
    "    strings into a format that is useful for extracting the desired information.\n",
    "    see https://docs.python.org/3/library/datetime.html#strftime-and-strptime-behavior\n",
    "    \"\"\"\n",
    "    if city in 'Washington':\n",
    "        city_bike_dtls = datetime.strptime(datum['End date'], '%m/%d/%Y %H:%M')\n",
    "    if city in 'NYC':\n",
    "        city_bike_dtls = datetime.strptime(datum['stoptime'], '%m/%d/%Y %H:%M:%S')\n",
    "    if city in 'Chicago':\n",
    "        city_bike_dtls = datetime.strptime(datum['stoptime'], '%m/%d/%Y %H:%M')\n",
    "    \n",
    "    month = int(city_bike_dtls.strftime('%-m'))\n",
    "    hour = int(city_bike_dtls.strftime('%-H'))\n",
    "    day_of_week = city_bike_dtls.strftime('%A')\n",
    "    return (month, hour, day_of_week)\n",
    "\n",
    "\n",
    "# Some tests to check that your code works. There should be no output if all of\n",
    "# the assertions pass. The `example_trips` dictionary was obtained from when\n",
    "# you printed the first trip from each of the original data files.\n",
    "tests = {'NYC': (1, 0, 'Friday'),\n",
    "         'Chicago': (3, 23, 'Thursday'),\n",
    "         'Washington': (3, 23, 'Thursday')}\n",
    "\n",
    "for city in tests:\n",
    "    assert time_of_trip(example_trips[city], city) == tests[city]"
   ]
  },
  {
   "cell_type": "code",
   "execution_count": 41,
   "metadata": {
    "collapsed": true
   },
   "outputs": [],
   "source": [
    "def type_of_user(datum, city):\n",
    "    \"\"\"\n",
    "    Takes as input a dictionary containing info about a single trip (datum) and\n",
    "    its origin city (city) and returns the type of system user that made the\n",
    "    trip.\n",
    "    \n",
    "    Remember that Washington has different category names compared to Chicago\n",
    "    and NYC. \n",
    "    \"\"\"\n",
    "    \n",
    "    if city in ('Chicago','NYC'):\n",
    "        user_type = datum['usertype']\n",
    "    else :\n",
    "      if datum['Member Type'] == 'Registered':\n",
    "         user_type = 'Subscriber'\n",
    "      if datum['Member Type'] == 'Casual':  \n",
    "         user_type = 'Customer'\n",
    "    return str(user_type)\n",
    "\n",
    "\n",
    "# Some tests to check that your code works. There should be no output if all of\n",
    "# the assertions pass. The `example_trips` dictionary was obtained from when\n",
    "# you printed the first trip from each of the original data files.\n",
    "tests = {'NYC': 'Customer',\n",
    "         'Chicago': 'Subscriber',\n",
    "         'Washington': 'Subscriber'}\n",
    "\n",
    "for city in tests:\n",
    "    assert type_of_user(example_trips[city], city) == tests[city]"
   ]
  },
  {
   "cell_type": "markdown",
   "metadata": {},
   "source": [
    "**Question 3b**: Now, use the helper functions you wrote above to create a condensed data file for each city consisting only of the data fields indicated above. In the `/examples/` folder, you will see an example datafile from the [Bay Area Bike Share](http://www.bayareabikeshare.com/open-data) before and after conversion. Make sure that your output is formatted to be consistent with the example file."
   ]
  },
  {
   "cell_type": "code",
   "execution_count": 42,
   "metadata": {
    "collapsed": true
   },
   "outputs": [],
   "source": [
    "def condense_data(in_file, out_file, city):\n",
    "    \"\"\"\n",
    "    This function takes full data from the specified input file\n",
    "    and writes the condensed data to a specified output file. The city\n",
    "    argument determines how the input file will be parsed.\n",
    "    \n",
    "    HINT: See the cell below to see how the arguments are structured!\n",
    "    \"\"\"\n",
    "    \n",
    "    with open(out_file, 'w') as f_out, open(in_file, 'r') as f_in:\n",
    "        # set up csv DictWriter object - writer requires column names for the\n",
    "        # first row as the \"fieldnames\" argument\n",
    "        out_colnames = ['duration', 'month', 'hour', 'day_of_week', 'user_type']        \n",
    "        trip_writer = csv.DictWriter(f_out, fieldnames = out_colnames)\n",
    "        trip_writer.writeheader()\n",
    "        \n",
    "        ## set up csv DictReader object ##\n",
    "        trip_reader = csv.DictReader(f_in)\n",
    "\n",
    "        # collect data from and process each row\n",
    "        for row in trip_reader:\n",
    "            # set up a dictionary to hold the values for the cleaned and trimmed\n",
    "            # data point\n",
    "            \n",
    "            new_point = {}\n",
    "            new_point['duration'] = duration_in_mins(row, city)\n",
    "            month, hour, day_of_week = time_of_trip(row, city)\n",
    "            new_point['month'] = month\n",
    "            new_point['hour'] = hour\n",
    "            new_point['day_of_week'] = day_of_week\n",
    "            new_point['user_type'] = type_of_user(row, city)\n",
    "            trip_writer.writerow(new_point)\n",
    "\n",
    "            ## TODO: use the helper functions to get the cleaned data from  ##\n",
    "            ## the original data dictionaries.                              ##\n",
    "            ## Note that the keys for the new_point dictionary should match ##\n",
    "            ## the column names set in the DictWriter object above.         ##\n",
    "            \n",
    "\n",
    "            ## TODO: write the processed information to the output file.     ##\n",
    "            ## see https://docs.python.org/3/library/csv.html#writer-objects ##\n",
    "            \n",
    "            "
   ]
  },
  {
   "cell_type": "code",
   "execution_count": 43,
   "metadata": {},
   "outputs": [
    {
     "name": "stdout",
     "output_type": "stream",
     "text": [
      "\n",
      "City: Washington\n",
      "OrderedDict([('duration', '7.123130912900001'),\n",
      "             ('month', '3'),\n",
      "             ('hour', '23'),\n",
      "             ('day_of_week', 'Thursday'),\n",
      "             ('user_type', 'Subscriber')])\n",
      "\n",
      "City: Chicago\n",
      "OrderedDict([('duration', '15.433333333333334'),\n",
      "             ('month', '3'),\n",
      "             ('hour', '23'),\n",
      "             ('day_of_week', 'Thursday'),\n",
      "             ('user_type', 'Subscriber')])\n",
      "\n",
      "City: NYC\n",
      "OrderedDict([('duration', '13.983333333333333'),\n",
      "             ('month', '1'),\n",
      "             ('hour', '0'),\n",
      "             ('day_of_week', 'Friday'),\n",
      "             ('user_type', 'Customer')])\n"
     ]
    }
   ],
   "source": [
    "# Run this cell to check your work\n",
    "city_info = {'Washington': {'in_file': './data/Washington-CapitalBikeshare-2016.csv',\n",
    "                            'out_file': './data/Washington-2016-Summary.csv'},\n",
    "             'Chicago': {'in_file': './data/Chicago-Divvy-2016.csv',\n",
    "                         'out_file': './data/Chicago-2016-Summary.csv'},\n",
    "             'NYC': {'in_file': './data/NYC-CitiBike-2016.csv',\n",
    "                     'out_file': './data/NYC-2016-Summary.csv'}}\n",
    "\n",
    "for city, filenames in city_info.items():\n",
    "    condense_data(filenames['in_file'], filenames['out_file'], city)\n",
    "    print_first_point(filenames['out_file'])"
   ]
  },
  {
   "cell_type": "markdown",
   "metadata": {},
   "source": [
    "> **Tip**: If you save a jupyter Notebook, the output from running code blocks will also be saved. However, the state of your workspace will be reset once a new session is started. Make sure that you run all of the necessary code blocks from your previous session to reestablish variables and functions before picking up where you last left off.\n",
    "\n",
    "<a id='eda'></a>\n",
    "## Exploratory Data Analysis\n",
    "\n",
    "Now that you have the data collected and wrangled, you're ready to start exploring the data. In this section you will write some code to compute descriptive statistics from the data. You will also be introduced to the `matplotlib` library to create some basic histograms of the data.\n",
    "\n",
    "<a id='statistics'></a>\n",
    "### Statistics\n",
    "\n",
    "First, let's compute some basic counts. The first cell below contains a function that uses the csv module to iterate through a provided data file, returning the number of trips made by subscribers and customers. The second cell runs this function on the example Bay Area data in the `/examples/` folder. Modify the cells to answer the question below.\n",
    "\n",
    "**Question 4a**: Which city has the highest number of trips? Which city has the highest proportion of trips made by subscribers? Which city has the highest proportion of trips made by short-term customers?\n",
    "\n",
    "**Answer**: New York has highest number of trips with highest propotion of trips  made by  subscribers. Whereas Chicago has highest proportion of trips made by short-term customers "
   ]
  },
  {
   "cell_type": "code",
   "execution_count": 2,
   "metadata": {
    "collapsed": true
   },
   "outputs": [],
   "source": [
    "def cal_proportion(partial, total):\n",
    "    \"\"\"\n",
    "    This function calculates percentage. \n",
    "    partial : number to converted to percent\n",
    "    total : whole values\n",
    "    \"\"\"\n",
    "    return 100 * float(partial) / float(total)\n",
    "def number_of_trips(filename):\n",
    "    \"\"\"\n",
    "    This function reads in a file with trip data and reports the number of\n",
    "    trips made by subscribers, customers, and total overall.\n",
    "    \"\"\"\n",
    "    with open(filename, 'r') as f_in:\n",
    "        # set up csv reader object\n",
    "        reader = csv.DictReader(f_in)\n",
    "        \n",
    "        # initialize count variables\n",
    "        n_subscribers = 0\n",
    "        n_customers = 0\n",
    "        \n",
    "        # tally up ride types based on user type\n",
    "        for row in reader:\n",
    "            if row['user_type'] == 'Subscriber':\n",
    "                n_subscribers += 1\n",
    "            else:\n",
    "                n_customers += 1\n",
    "        \n",
    "        # compute total number of rides\n",
    "        n_total = n_subscribers + n_customers\n",
    "        # return tallies as a tuple\n",
    "        return (n_total, n_subscribers, n_customers)"
   ]
  },
  {
   "cell_type": "code",
   "execution_count": 45,
   "metadata": {},
   "outputs": [
    {
     "name": "stdout",
     "output_type": "stream",
     "text": [
      "City: Washington \n",
      "Total trips: 66326 % Trips by Subscriber : 78.0282242257938  by Customers: 21.971775774206193\n",
      "City: Chicago \n",
      "Total trips: 72131 % Trips by Subscriber : 76.22520136973007  by Customers: 23.774798630269924\n",
      "City: NYC \n",
      "Total trips: 276798 % Trips by Subscriber : 88.83590199351151  by Customers: 11.164098006488485\n"
     ]
    }
   ],
   "source": [
    "## Modify this and the previous cell to answer Question 4a. Remember to run ##\n",
    "## the function on the cleaned data files you created from Question 3.      ##\n",
    "city_data_file = {'Washington':  './data/Washington-2016-Summary.csv',\n",
    "                  'Chicago':'./data/Chicago-2016-Summary.csv',\n",
    "                  'NYC': './data/NYC-2016-Summary.csv'}\n",
    "\n",
    "for city, filename in city_data_file.items():\n",
    "      trip_info = ()\n",
    "      trip_info = number_of_trips(filename)\n",
    "      #provide details in string format\n",
    "      print('City: {} '.format(city))\n",
    "      print('Total trips: {} % Trips by Subscriber : {}  by Customers: {}'.format(trip_info[0],cal_proportion(trip_info[1], trip_info[0]),cal_proportion(trip_info[2], trip_info[0])))                                                                         "
   ]
  },
  {
   "cell_type": "markdown",
   "metadata": {},
   "source": [
    "> **Tip**: In order to add additional cells to a notebook, you can use the \"Insert Cell Above\" and \"Insert Cell Below\" options from the menu bar above. There is also an icon in the toolbar for adding new cells, with additional icons for moving the cells up and down the document. By default, new cells are of the code type; you can also specify the cell type (e.g. Code or Markdown) of selected cells from the Cell menu or the dropdown in the toolbar.\n",
    "\n",
    "Now, you will write your own code to continue investigating properties of the data.\n",
    "\n",
    "**Question 4b**: Bike-share systems are designed for riders to take short trips. Most of the time, users are allowed to take trips of 30 minutes or less with no additional charges, with overage charges made for trips of longer than that duration. What is the average trip length for each city? What proportion of rides made in each city are longer than 30 minutes?\n",
    "\n",
    "**Answer**: Average trip length in Washington is  19 minutes with 10.8% of trips longer than 30 minutes. Similiarly in Chicago average trip is 17 minutes with 8.3% over 30 mintues and New York average trip is 16 minutes with 7.3% of trips are over 30 minutes approximatly. "
   ]
  },
  {
   "cell_type": "code",
   "execution_count": 3,
   "metadata": {
    "collapsed": true
   },
   "outputs": [],
   "source": [
    "def cal_average(sumofall, countofall):\n",
    "    \"\"\"\n",
    "    This function calculates average. \n",
    "    sumofall : addition  of all numbers\n",
    "    countofall : count of  numbers\n",
    "    \"\"\"\n",
    "    return  sumofall / countofall\n",
    "def duration_of_trip(filename):\n",
    "    \"\"\"\n",
    "    This function reads in a file with trip data and calculates the duration\n",
    "    trips made by subscribers and customers.\n",
    "    \"\"\"\n",
    "    with open(filename, 'r') as f_in:\n",
    "        # set up csv reader object\n",
    "        reader = csv.DictReader(f_in)\n",
    "        \n",
    "        # initialize  variables\n",
    "        sub_duration = 0\n",
    "        cus_duration = 0\n",
    "        total_duration = 0\n",
    "        grt30_count = 0\n",
    "        total_count = 0\n",
    "        \n",
    "        # Add up  all ride durations and also add up based on user type\n",
    "        # tally up all ride and also rides with duration more than 30 mintues\n",
    "        for row in reader:      \n",
    "            total_duration += float(row['duration'])\n",
    "            total_count += 1\n",
    "            if row['user_type'] == 'Subscriber':\n",
    "                    sub_duration += float(row['duration'])\n",
    "            else:\n",
    "                    cus_duration += float(row['duration'])\n",
    "            if (float(row['duration']) > 30) :\n",
    "                grt30_count += 1\n",
    "        # return tallies as a tuple\n",
    "        return (total_duration,total_count,grt30_count,sub_duration, cus_duration) "
   ]
  },
  {
   "cell_type": "code",
   "execution_count": 51,
   "metadata": {},
   "outputs": [
    {
     "name": "stdout",
     "output_type": "stream",
     "text": [
      "City: Washington\n",
      "Average trip length:  18.93  Propotion of trips longer than 30mints: 10.84%\n",
      "City: Chicago\n",
      "Average trip length:  16.56  Propotion of trips longer than 30mints: 8.33%\n",
      "City: NYC\n",
      "Average trip length:  15.81  Propotion of trips longer than 30mints: 7.3%\n",
      "City: Bay Area\n",
      "Average trip length:  14.04  Propotion of trips longer than 30mints: 3.52%\n"
     ]
    }
   ],
   "source": [
    "## Use this and additional cells to answer Question 4b.                 ##\n",
    "##                                                                      ##\n",
    "## HINT: The csv module reads in all of the data as strings, including  ##\n",
    "## numeric values. You will need a function to convert the strings      ##\n",
    "## into an appropriate numeric type before you aggregate data.          ##\n",
    "## TIP: For the Bay Area example, the average trip length is 14 minutes ##\n",
    "## and 3.5% of trips are longer than 30 minutes.                        ##\n",
    "## the function on the cleaned data files you created from Question 3.      ##\n",
    "city_data_file = {'Washington':  './data/Washington-2016-Summary.csv',\n",
    "                  'Chicago':'./data/Chicago-2016-Summary.csv',\n",
    "                  'NYC': './data/NYC-2016-Summary.csv',\n",
    "                  'Bay Area': './examples/BayArea-Y3-Summary.csv'}\n",
    "\n",
    "for city, filename in city_data_file.items():\n",
    "    trip_info = ()\n",
    "    trip_info = duration_of_trip(filename)\n",
    "    print('City: {}'.format(city))    \n",
    "    print('Average trip length:  {}  Propotion of trips longer than 30mints: {}%'. format(round(cal_average(trip_info[0],trip_info[1]),2),round(cal_proportion(trip_info[2], trip_info[1]),2)))     \n",
    " "
   ]
  },
  {
   "cell_type": "markdown",
   "metadata": {},
   "source": [
    "**Question 4c**: Dig deeper into the question of trip duration based on ridership. Choose one city. Within that city, which type of user takes longer rides on average: Subscribers or Customers?\n",
    "\n",
    "**Answer**: In all the 3 cities Washington, Chicago and New York the consumer takes longer trips than subscriber with average trip durations of 41.7 minutes, 31 minutes and 32.8 minutes respectively."
   ]
  },
  {
   "cell_type": "code",
   "execution_count": 54,
   "metadata": {},
   "outputs": [
    {
     "name": "stdout",
     "output_type": "stream",
     "text": [
      "City: Washington Average long trip: subscriber 12.53 consumer 41.68\n",
      "City: Chicago Average long trip: subscriber 12.07 consumer 30.98\n",
      "City: NYC Average long trip: subscriber 13.68 consumer 32.78\n",
      "City: Bay Area Average long trip: subscriber 9.51 consumer 54.55\n"
     ]
    }
   ],
   "source": [
    "## Use this and additional cells to answer Question 4c. If you have    ##\n",
    "## not done so yet, consider revising some of your previous code to    ##\n",
    "## make use of functions for reusability.                              ##\n",
    "##                                                                     ##\n",
    "## TIP: For the Bay Area example data, you should find the average     ##\n",
    "## Subscriber trip duration to be 9.5 minutes and the average Customer ##\n",
    "## trip duration to be 54.6 minutes. Do the other cities have this     ##\n",
    "## level of difference?                                                ##\n",
    "\n",
    "city_data_file = {'Washington':  './data/Washington-2016-Summary.csv',\n",
    "                  'Chicago':'./data/Chicago-2016-Summary.csv',\n",
    "                  'NYC': './data/NYC-2016-Summary.csv',\n",
    "                  'Bay Area': './examples/BayArea-Y3-Summary.csv'}\n",
    "\n",
    "for city, filename in city_data_file.items():\n",
    "    #obtain total trips and count of different trip types\n",
    "    trip_count = number_of_trips(filename)\n",
    "    #obtain sum of trip duration for different trip types\n",
    "    trip_duration = duration_of_trip(filename)\n",
    "    #calculate average duration for Subscriber\n",
    "    avg_subscriber = round(cal_average(trip_duration[3], trip_count[1]),2)\n",
    "    #calculate average duration for Customer\n",
    "    avg_customer = round(cal_average(trip_duration[4], trip_count[2]),2)\n",
    "    print('City: {} Average long trip: subscriber {} consumer {}'.format(city, avg_subscriber, avg_customer)) \n"
   ]
  },
  {
   "cell_type": "markdown",
   "metadata": {},
   "source": [
    "<a id='visualizations'></a>\n",
    "### Visualizations\n",
    "\n",
    "The last set of values that you computed should have pulled up an interesting result. While the mean trip time for Subscribers is well under 30 minutes, the mean trip time for Customers is actually _above_ 30 minutes! It will be interesting for us to look at how the trip times are distributed. In order to do this, a new library will be introduced here, `matplotlib`. Run the cell below to load the library and to generate an example plot."
   ]
  },
  {
   "cell_type": "code",
   "execution_count": 30,
   "metadata": {},
   "outputs": [
    {
     "data": {
      "image/png": "[encoded data removed]",
      "text/plain": [
       "<matplotlib.figure.Figure at 0x7fb7a0230c18>"
      ]
     },
     "metadata": {},
     "output_type": "display_data"
    }
   ],
   "source": [
    "# load library\n",
    "import matplotlib.pyplot as plt\n",
    "\n",
    "# this is a 'magic word' that allows for plots to be displayed\n",
    "# inline with the notebook. If you want to know more, see:\n",
    "# http://ipython.readthedocs.io/en/stable/interactive/magics.html\n",
    "%matplotlib inline \n",
    "\n",
    "# example histogram, data taken from bay area sample\n",
    "data = [ 7.65,  8.92,  7.42,  5.50, 16.17,  4.20,  8.98,  9.62, 11.48, 14.33,\n",
    "        19.02, 21.53,  3.90,  7.97,  2.62,  2.67,  3.08, 14.40, 12.90,  7.83,\n",
    "        25.12,  8.30,  4.93, 12.43, 10.60,  6.17, 10.88,  4.78, 15.15,  3.53,\n",
    "         9.43, 13.32, 11.72,  9.85,  5.22, 15.10,  3.95,  3.17,  8.78,  1.88,\n",
    "         4.55, 12.68, 12.38,  9.78,  7.63,  6.45, 17.38, 11.90, 11.52,  8.63,]\n",
    "plt.hist(data)\n",
    "plt.title('Distribution of Trip Durations')\n",
    "plt.xlabel('Duration (m)')\n",
    "plt.show()"
   ]
  },
  {
   "cell_type": "markdown",
   "metadata": {},
   "source": [
    "In the above cell, we collected fifty trip times in a list, and passed this list as the first argument to the `.hist()` function. This function performs the computations and creates plotting objects for generating a histogram, but the plot is actually not rendered until the `.show()` function is executed. The `.title()` and `.xlabel()` functions provide some labeling for plot context.\n",
    "\n",
    "You will now use these functions to create a histogram of the trip times for the city you selected in question 4c. Don't separate the Subscribers and Customers for now: just collect all of the trip times and plot them."
   ]
  },
  {
   "cell_type": "code",
   "execution_count": 55,
   "metadata": {
    "collapsed": true
   },
   "outputs": [],
   "source": [
    "def collect_trip_time(filename, type):\n",
    "    \"\"\"\n",
    "    This function reads in a file with trip data and makes list of trip times\n",
    "    \"\"\"\n",
    "    with open(filename, 'r') as f_in:\n",
    "        # set up csv reader object\n",
    "        reader = csv.DictReader(f_in)\n",
    "        \n",
    "        # initialize  variables\n",
    "        trip_times = []\n",
    "        count = 0\n",
    "        \n",
    "        #  Obtain first 50 trip durations based on rider type \n",
    "        while count<50:\n",
    "            get_trip = next(reader)\n",
    "            if type in (get_trip['user_type'],'All'):\n",
    "                    trip_times.append(round(float(get_trip['duration']), 2))\n",
    "                    count += 1\n",
    "    return trip_times"
   ]
  },
  {
   "cell_type": "code",
   "execution_count": 56,
   "metadata": {},
   "outputs": [
    {
     "name": "stdout",
     "output_type": "stream",
     "text": [
      "Washington\n"
     ]
    },
    {
     "data": {
      "image/png": "[encoded data removed]",
      "text/plain": [
       "<matplotlib.figure.Figure at 0x7fc008d08c18>"
      ]
     },
     "metadata": {},
     "output_type": "display_data"
    },
    {
     "name": "stdout",
     "output_type": "stream",
     "text": [
      "Chicago\n"
     ]
    },
    {
     "data": {
      "image/png": "[encoded data removed]",
      "text/plain": [
       "<matplotlib.figure.Figure at 0x7fc008c1e898>"
      ]
     },
     "metadata": {},
     "output_type": "display_data"
    },
    {
     "name": "stdout",
     "output_type": "stream",
     "text": [
      "NYC\n"
     ]
    },
    {
     "data": {
      "image/png": "[encoded data removed]",
      "text/plain": [
       "<matplotlib.figure.Figure at 0x7fc00880aef0>"
      ]
     },
     "metadata": {},
     "output_type": "display_data"
    },
    {
     "name": "stdout",
     "output_type": "stream",
     "text": [
      "Bay Area\n"
     ]
    },
    {
     "data": {
      "image/png": "[encoded data removed]",
      "text/plain": [
       "<matplotlib.figure.Figure at 0x7fc0089acc88>"
      ]
     },
     "metadata": {},
     "output_type": "display_data"
    }
   ],
   "source": [
    "## Use this and additional cells to collect all of the trip times as a list ##\n",
    "## and then use pyplot functions to generate a histogram of trip times.     ##\n",
    "\n",
    "city_data_file = { 'Washington':  './data/Washington-2016-Summary.csv',\n",
    "                   'Chicago':'./data/Chicago-2016-Summary.csv',\n",
    "                   'NYC': './data/NYC-2016-Summary.csv',\n",
    "                   'Bay Area': './examples/BayArea-Y3-Summary.csv'}\n",
    "\n",
    "for city, filename in city_data_file.items():\n",
    "    print(city)\n",
    "    plt.hist(collect_trip_time(filename,'All'))\n",
    "    plt.title('Distribution of Trip Durations')\n",
    "    plt.xlabel('Duration (m)')\n",
    "    plt.show()\n",
    "   "
   ]
  },
  {
   "cell_type": "markdown",
   "metadata": {},
   "source": [
    "If you followed the use of the `.hist()` and `.show()` functions exactly like in the example, you're probably looking at a plot that's completely unexpected. The plot consists of one extremely tall bar on the left, maybe a very short second bar, and a whole lot of empty space in the center and right. Take a look at the duration values on the x-axis. This suggests that there are some highly infrequent outliers in the data. Instead of reprocessing the data, you will use additional parameters with the `.hist()` function to limit the range of data that is plotted. Documentation for the function can be found [[here]](https://matplotlib.org/devdocs/api/_as_gen/matplotlib.pyplot.hist.html#matplotlib.pyplot.hist).\n",
    "\n",
    "**Question 5**: Use the parameters of the `.hist()` function to plot the distribution of trip times for the Subscribers in your selected city. Do the same thing for only the Customers. Add limits to the plots so that only trips of duration less than 75 minutes are plotted. As a bonus, set the plots up so that bars are in five-minute wide intervals. For each group, where is the peak of each distribution? How would you describe the shape of each distribution?\n",
    "\n",
    "**Answer**: The Histrogram is plotted for 50 data points with duration less than 75 for each user type in Washington City. The Subscriber distribution peaked before between 0 to 9 minutes and customers distribution peaked between 8 to 15 minutes. Both the distributions are skewed to left in Washington City predicting that bikes are used regulary for short distance that could be reached in less than 20 minutes. We do see a second closer peak for customer between 22 and 30 minutes duration. From Histrogram it can be assumed that a bike borrowed by Subscriber is sured to be returned in less than 30 minutes whereas bike borrowed by Customer might exceed 30 minutes limit. Other 2 cities NYC and Chicago have similiar distribution with Subscriber bike usage peaking betwwen 10 to 15 minutes and Customer bike usage between 15 and 25 mintues. Overall Subscribers is more predictable whereas Customer bike duration is more than 15 minutes  often exceeding 30 minutes."
   ]
  },
  {
   "cell_type": "code",
   "execution_count": 57,
   "metadata": {},
   "outputs": [
    {
     "name": "stdout",
     "output_type": "stream",
     "text": [
      "Washington\n"
     ]
    },
    {
     "data": {
      "image/png": "[encoded data removed]",
      "text/plain": [
       "<matplotlib.figure.Figure at 0x7fc0088fc5f8>"
      ]
     },
     "metadata": {},
     "output_type": "display_data"
    },
    {
     "name": "stdout",
     "output_type": "stream",
     "text": [
      "Chicago\n"
     ]
    },
    {
     "data": {
      "image/png": "[encoded data removed]",
      "text/plain": [
       "<matplotlib.figure.Figure at 0x7fc00894bd30>"
      ]
     },
     "metadata": {},
     "output_type": "display_data"
    },
    {
     "name": "stdout",
     "output_type": "stream",
     "text": [
      "NYC\n"
     ]
    },
    {
     "data": {
      "image/png": "[encoded data removed]",
      "text/plain": [
       "<matplotlib.figure.Figure at 0x7fc008a1ab00>"
      ]
     },
     "metadata": {},
     "output_type": "display_data"
    },
    {
     "name": "stdout",
     "output_type": "stream",
     "text": [
      "Bay Area\n"
     ]
    },
    {
     "data": {
      "image/png": "[encoded data removed]",
      "text/plain": [
       "<matplotlib.figure.Figure at 0x7fc008999be0>"
      ]
     },
     "metadata": {},
     "output_type": "display_data"
    }
   ],
   "source": [
    "## Use this and additional cells to answer Question 5. ##\n",
    "city_data_file = { 'Washington':  './data/Washington-2016-Summary.csv',\n",
    "                   'Chicago':'./data/Chicago-2016-Summary.csv',\n",
    "                   'NYC': './data/NYC-2016-Summary.csv',\n",
    "                   'Bay Area': './examples/BayArea-Y3-Summary.csv'}\n",
    "\n",
    "for city, filename in city_data_file.items():\n",
    "    print(city)\n",
    "    #plot customer data points and set color to red\n",
    "    plt.hist(collect_trip_time(filename,'Customer'),bins=10,range=(0,75),color='r', label='Customer')\n",
    "    #plot subscriber data points and outline portion of area without color filling\n",
    "    plt.hist(collect_trip_time(filename,'Subscriber'),bins=10,range=(0,75),histtype='step', label='Subscriber')\n",
    "    plt.title('Distribution of Trip Durations')\n",
    "    plt.xlabel('Duration (m)')\n",
    "    plt.legend()\n",
    "    plt.show()\n"
   ]
  },
  {
   "cell_type": "code",
   "execution_count": null,
   "metadata": {
    "collapsed": true
   },
   "outputs": [],
   "source": [
    "<a id='eda_continued'></a>\n",
    "## Performing Your Own Analysis\n",
    "\n",
    "So far, you've performed an initial exploration into the data available. You have compared the relative volume of trips made between three U.S. cities and the ratio of trips made by Subscribers and Customers. For one of these cities, you have investigated differences between Subscribers and Customers in terms of how long a typical trip lasts. Now it is your turn to continue the exploration in a direction that you choose. Here are a few suggestions for questions to explore:\n",
    "\n",
    "- How does ridership differ by month or season? Which month / season has the highest ridership? Does the ratio of Subscriber trips to Customer trips change depending on the month or season?\n",
    "- Is the pattern of ridership different on the weekends versus weekdays? On what days are Subscribers most likely to use the system? What about Customers? Does the average duration of rides change depending on the day of the week?\n",
    "- During what time of day is the system used the most? Is there a difference in usage patterns for Subscribers and Customers?\n",
    "\n",
    "If any of the questions you posed in your answer to question 1 align with the bullet points above, this is a good opportunity to investigate one of them. As part of your investigation, you will need to create a visualization. If you want to create something other than a histogram, then you might want to consult the [Pyplot documentation](https://matplotlib.org/devdocs/api/pyplot_summary.html). In particular, if you are plotting values across a categorical variable (e.g. city, user type), a bar chart will be useful. The [documentation page for `.bar()`](https://matplotlib.org/devdocs/api/_as_gen/matplotlib.pyplot.bar.html#matplotlib.pyplot.bar) includes links at the bottom of the page with examples for you to build off of for your own use.\n",
    "\n",
    "**Question 6**: Continue the investigation by exploring another question that could be answered by the data available. Document the question you want to explore below. Your investigation should involve at least two variables and should compare at least two groups. You should also use at least one visualization as part of your explorations.\n",
    "\n",
    "**Answer**: The statustics performed on data can be used to answer questions like \n",
    " On what day of week Subscriber/ Customer most likely to use\n",
    "the system ? On the other hand ,  On what day of week Subscriber/ Customer  use the system less compared to other day? \n",
    "Does ridership differ on weekdays versus weekends?\n",
    "Does duration of trip is effected on days when system is most used ?\n",
    "At what part of day the system is used the most by Subscriber/ Customer? Does it differ weekdays vs weekends?\n",
    "\n",
    "\n",
    "The statistics are calculated across the cities\n",
    "\n",
    "For Washington City the system is most likely used on Wednesdays by subscribers and Saturday by Customers. Whereas  on Sunday for subscribers and \n",
    "Tuesday for Customers the system has low ridership. It can be observed that Subscriber use the system  on weekdays compared to weekends but Customers have more ridership on \n",
    "weekends and Friday compared to rest of week. It can be said that subscribers are regular employees who commute to work on weekdays and Customers are preferably tourists.\n",
    "Looking more into numbers of system usage Subscriber  ridership is high(33%) during morning hours between 5 A.M to 10 A.M and evenings(38%) between\n",
    " 4 P.M to 8 P.M. These timings are commute hours of employees to office where they usually work from 9-5 PM. It can also be seen that ridership\n",
    " is low on weekends(17%) for same timings of subscriber. On other hand Customers ridership is high (55%) on weekends and weekdays between 10 A.M to 4 P.M.\n",
    "Finally average duration of trip remains same weekends versus weekdays for each user type. Although there is no difference, the average duration of subscriber\n",
    "is close to 13 minutes and 44 minutes for customer.\n",
    "\n",
    "\n",
    "We see a similar trends in Chicago and NYC. The subscribers are most likely going to use the system in weekdays(Chicago - Tuesday and NYC Wednesday)\n",
    "and Customers on weekend (Chicago - Sunday and NYC - Sunday ). Also the subscribers are less likely to use the system on weekends(Chicago - Sunday and NYC Sunday)\n",
    "and Customers in weekday (Chicago - Wednesday and NYC - Tuesday ). The usage of system at different part of day follows a same pattern in all 3 cities.\n",
    "The Subscriber ridership is high during morning(Chicago - 32% and NYC - 32% ) and evening(Chicago - 36% and NYC - 35% ) hours of day.  \n",
    "Whereas Customers usage of system is high during midday(Chicago - 57% and NYC - 56% )  on weekdays and weekends. Another common trend among all 3 cities is \n",
    "that usage of system on Friday midday is slightly higher than evening hours for Subscribers. The average duration remains less than 15 minutes for Subscriber\n",
    "and 30 to 45 minutes for Customer in all 3 cities.\n"
   ]
  },
  {
   "cell_type": "code",
   "execution_count": 4,
   "metadata": {
    "collapsed": true
   },
   "outputs": [],
   "source": [
    "def number_of_trips_ondays(filename, day_of_week, user_type):\n",
    "    \"\"\"\n",
    "    This function reads in a file with trip data and reports the number of\n",
    "    trips made by  subscribers and customers on each day of week  and also tallies trips at different part of day.\n",
    "    \"\"\"\n",
    "    \n",
    "    with open(filename, 'r') as f_in:\n",
    "        # set up csv reader object\n",
    "        reader = csv.DictReader(f_in)\n",
    "        \n",
    "        # initialize count variables\n",
    "        n_count = 0\n",
    "        sum_duration = 0\n",
    "        morning_hours_usage = 0\n",
    "        midday_hours_usage = 0\n",
    "        evening_hours_usage = 0\n",
    "        unusual_hours_usage = 0\n",
    "\n",
    "        \n",
    "        # tally up ride  based on week of day and rider type\n",
    "        for row in reader:   \n",
    "           if row['day_of_week'] == day_of_week and row['user_type'] == user_type:\n",
    "                n_count += 1\n",
    "                sum_duration += float(row['duration'])\n",
    "                # tally up ride types based on time of day\n",
    "                if 5<=int(row['hour'])<=10:\n",
    "                    morning_hours_usage += 1 \n",
    "                elif  10<int(row['hour'])<=16:\n",
    "                    midday_hours_usage += 1\n",
    "                elif  16<int(row['hour'])<=20:\n",
    "                    evening_hours_usage += 1  \n",
    "                else:\n",
    "                    unusual_hours_usage += 1         \n",
    "        #total usage of bike on a day\n",
    "        total_usage = morning_hours_usage + midday_hours_usage + evening_hours_usage + unusual_hours_usage\n",
    "        percent_usage = []\n",
    "        #calculate propotion of usage \n",
    "        percent_usage.append(round(cal_proportion(morning_hours_usage,total_usage),2))\n",
    "        percent_usage.append(round(cal_proportion(midday_hours_usage,total_usage),2))\n",
    "        percent_usage.append(round(cal_proportion(evening_hours_usage,total_usage),2))\n",
    "        percent_usage.append(round(cal_proportion(unusual_hours_usage,total_usage),2))\n",
    "        # return tallies as a tuple\n",
    "        return (n_count, round(cal_average(sum_duration,n_count),2) ,tuple(percent_usage))  "
   ]
  },
  {
   "cell_type": "code",
   "execution_count": 33,
   "metadata": {
    "scrolled": false
   },
   "outputs": [
    {
     "name": "stdout",
     "output_type": "stream",
     "text": [
      "City: Washington\n",
      "Subscriber\n",
      "              Day        Trip Count            Average Duration            %usage(morning/midday/evening/unusal)\n",
      "      Monday             7652                        12.21                           (30.38, 23.56, 38.57, 7.49)\n",
      "      Tuesday             8317                        12.05                           (33.25, 21.01, 37.61, 8.14)\n",
      "      Wednesday             8520                        12.72                           (33.09, 21.21, 37.38, 8.32)\n",
      "      Thursday             8454                        12.34                           (32.26, 22.13, 37.47, 8.14)\n",
      "      Friday             7949                        12.42                           (30.42, 28.67, 32.19, 8.72)\n",
      "      Saturday             5579                        13.41                           (17.05, 46.46, 23.36, 13.14)\n",
      "      Sunday             5282                        12.95                           (13.5, 50.97, 24.12, 11.42)\n",
      "Most likely use on Wednesday least likely use on Sunday\n",
      "Customer\n",
      "      Monday             1752                        42.54                           (12.1, 47.15, 29.51, 11.24)\n",
      "      Tuesday             1424                        39.34                           (13.27, 44.1, 32.09, 10.53)\n",
      "      Wednesday             1578                        39.92                           (13.62, 41.25, 33.78, 11.34)\n",
      "      Thursday             1530                        36.88                           (12.29, 42.94, 32.88, 11.9)\n",
      "      Friday             2011                        41.65                           (10.79, 46.05, 29.94, 13.23)\n",
      "      Saturday             3305                        42.42                           (7.62, 53.49, 28.87, 10.02)\n",
      "      Sunday             2973                        44.88                           (9.82, 55.6, 25.93, 8.64)\n",
      "Most likely use on Saturday least likely use on Tuesday\n",
      "City: Chicago\n",
      "Subscriber\n",
      "              Day        Trip Count            Average Duration            %usage(morning/midday/evening/unusal)\n",
      "      Monday             8840                        11.89                           (31.37, 27.15, 34.95, 6.53)\n",
      "      Tuesday             9357                        11.71                           (31.84, 24.95, 36.46, 6.74)\n",
      "      Wednesday             8444                        11.74                           (33.44, 25.28, 34.5, 6.77)\n",
      "      Thursday             8641                        11.72                           (31.73, 26.26, 34.45, 7.56)\n",
      "      Friday             8642                        11.54                           (32.48, 32.42, 28.3, 6.79)\n",
      "      Saturday             5675                        13.45                           (18.89, 46.34, 22.84, 11.93)\n",
      "      Sunday             5383                        13.44                           (14.64, 50.64, 24.47, 10.25)\n",
      "Most likely use on Tuesday least likely use on Sunday\n",
      "Customer\n",
      "      Monday             2446                        31.2                           (9.08, 54.13, 27.88, 8.91)\n",
      "      Tuesday             1559                        32.22                           (9.04, 52.15, 29.31, 9.49)\n",
      "      Wednesday             1161                        30.97                           (11.89, 46.86, 30.15, 11.11)\n",
      "      Thursday             1358                        29.54                           (9.13, 49.63, 31.22, 10.01)\n",
      "      Friday             2085                        30.53                           (8.82, 55.35, 26.19, 9.64)\n",
      "      Saturday             4247                        30.54                           (7.37, 57.48, 26.54, 8.62)\n",
      "      Sunday             4293                        31.52                           (8.27, 57.33, 25.55, 8.85)\n",
      "Most likely use on Sunday least likely use on Wednesday\n",
      "City: NYC\n",
      "Subscriber\n",
      "              Day        Trip Count            Average Duration            %usage(morning/midday/evening/unusal)\n",
      "      Monday             35638                        13.46                           (28.83, 27.2, 35.39, 8.58)\n",
      "      Tuesday             39484                        14.13                           (30.91, 25.27, 34.89, 8.93)\n",
      "      Wednesday             41368                        12.89                           (32.17, 25.49, 33.36, 8.99)\n",
      "      Thursday             41194                        13.98                           (31.49, 26.13, 32.81, 9.56)\n",
      "      Friday             37594                        13.23                           (30.27, 31.57, 29.22, 8.93)\n",
      "      Saturday             26118                        13.97                           (15.8, 47.4, 24.06, 12.74)\n",
      "      Sunday             24500                        14.5                           (12.94, 47.11, 27.2, 12.75)\n",
      "Most likely use on Wednesday least likely use on Sunday\n",
      "Customer\n",
      "      Monday             3636                        40.51                           (10.37, 53.96, 26.98, 8.69)\n",
      "      Tuesday             2835                        33.23                           (10.86, 51.78, 27.51, 9.84)\n",
      "      Wednesday             3135                        30.01                           (11.99, 51.16, 28.64, 8.2)\n",
      "      Thursday             3081                        31.22                           (10.58, 50.73, 27.95, 10.74)\n",
      "      Friday             3660                        32.21                           (9.07, 53.14, 27.7, 10.08)\n",
      "      Saturday             7050                        30.09                           (8.07, 56.43, 27.4, 8.1)\n",
      "      Sunday             6788                        34.43                           (8.18, 56.22, 27.53, 8.07)\n",
      "Most likely use on Saturday least likely use on Tuesday\n",
      "City: Bay Area\n",
      "Subscriber\n",
      "              Day        Trip Count            Average Duration            %usage(morning/midday/evening/unusal)\n",
      "      Monday             1046                        8.8                           (42.93, 23.04, 31.74, 2.29)\n",
      "      Tuesday             1176                        10.24                           (44.81, 23.21, 28.83, 3.15)\n",
      "      Wednesday             1143                        9.4                           (41.64, 24.76, 30.71, 2.89)\n",
      "      Thursday             1073                        10.16                           (45.11, 23.39, 27.87, 3.63)\n",
      "      Friday             931                        8.59                           (42.53, 28.68, 25.35, 3.44)\n",
      "      Saturday             171                        9.56                           (29.82, 40.94, 22.81, 6.43)\n",
      "      Sunday             126                        10.92                           (24.6, 43.65, 26.98, 4.76)\n",
      "Most likely use on Tuesday least likely use on Sunday\n",
      "Customer\n",
      "      Monday             69                        72.11                           (20.29, 52.17, 24.64, 2.9)\n",
      "      Tuesday             83                        37.69                           (24.1, 49.4, 24.1, 2.41)\n",
      "      Wednesday             77                        39.25                           (20.78, 48.05, 27.27, 3.9)\n",
      "      Thursday             67                        54.52                           (17.91, 43.28, 31.34, 7.46)\n",
      "      Friday             95                        39.56                           (12.63, 55.79, 24.21, 7.37)\n",
      "      Saturday             134                        72.74                           (13.43, 66.42, 13.43, 6.72)\n",
      "      Sunday             108                        57.84                           (15.74, 64.81, 13.89, 5.56)\n",
      "Most likely use on Saturday least likely use on Thursday\n"
     ]
    }
   ],
   "source": [
    "## In this cell data for each city is tallied \n",
    "city_data_file = {'Washington':  './data/Washington-2016-Summary.csv',\n",
    "                  'Chicago':'./data/Chicago-2016-Summary.csv',\n",
    "                  'NYC': './data/NYC-2016-Summary.csv',\n",
    "                  'Bay Area': './examples/BayArea-Y3-Summary.csv'}\n",
    "\n",
    "for city, filename in city_data_file.items():\n",
    "    print('City: {}'.format(city)) \n",
    "    days_of_week_Subscriber = {}\n",
    "    days_of_week_Customer = {}\n",
    "   # Loop through each day of week to calculate various statistics for Subscriber and Customer\n",
    "    for day in  calendar.day_name[0:8]  :\n",
    "        days_of_week_Subscriber[day]= number_of_trips_ondays(filename,day,'Subscriber')\n",
    "        days_of_week_Customer[day]= number_of_trips_ondays(filename,day,'Customer')\n",
    "    print ('Subscriber')\n",
    "    print ('              Day        Trip Count            Average Duration            %usage(morning/midday/evening/unusal)')\n",
    "    for day in days_of_week_Subscriber.keys():\n",
    "        trip_count, avg_duration, percent_of_usage =  days_of_week_Subscriber[day]\n",
    "        #Obtain day of week with maximum and minimum rides for Subscriber\n",
    "        if max(days_of_week_Subscriber.values()) == days_of_week_Subscriber[day]:\n",
    "            day_of_max_rides = day\n",
    "        elif   min(days_of_week_Subscriber.values()) == days_of_week_Subscriber[day]: \n",
    "            day_of_min_rides = day\n",
    "        print ('      {}             {}                        {}                           {}'.format(day,trip_count,avg_duration,percent_of_usage))\n",
    "    print ('Most likely use on {} less likely use on {}'.format(day_of_max_rides, day_of_min_rides))\n",
    "    print ('Customer')\n",
    "    for day in days_of_week_Customer.keys():\n",
    "        trip_count, avg_duration, percent_of_usage =  days_of_week_Customer[day]\n",
    "        #Obtain day of week with maximum and minimum rides for Customer\n",
    "        if max(days_of_week_Customer.values()) == days_of_week_Customer[day]:\n",
    "            day_of_max_rides = day\n",
    "        elif   min(days_of_week_Customer.values()) == days_of_week_Customer[day]: \n",
    "            day_of_min_rides = day\n",
    "        print ('      {}             {}                        {}                           {}'.format(day,trip_count,avg_duration,percent_of_usage))\n",
    "    print ('Most likely use on {} less likely use on {}'.format(day_of_max_rides, day_of_min_rides))\n",
    "\n",
    " \n",
    "        \n",
    "        \n",
    "        "
   ]
  },
  {
   "cell_type": "code",
   "execution_count": 5,
   "metadata": {
    "collapsed": true
   },
   "outputs": [],
   "source": [
    "def number_of_seasonal_trips(filename, user_type):\n",
    "    \"\"\"\n",
    "    This function reads in a file with trip data and reports the number of\n",
    "    trips made by  subscribers AND customers on each day of week  and also counts trip at different part of day.\n",
    "    \"\"\"\n",
    "    \n",
    "    with open(filename, 'r') as f_in:\n",
    "        # set up csv reader object\n",
    "        reader = csv.DictReader(f_in)\n",
    "        \n",
    "        # initialize count variables\n",
    "        spring_usage = 0\n",
    "        summer_usage = 0\n",
    "        fall_usage = 0\n",
    "        winter_usage = 0\n",
    "\n",
    "        \n",
    "        # tally up ride types based on season and ridership type\n",
    "        for row in reader:   \n",
    "           if row['user_type'] == user_type:\n",
    "                # tally up ride types based on season\n",
    "                if 3<=int(row['month'])<=5:\n",
    "                    spring_usage += 1 \n",
    "                elif  6<=int(row['month'])<=8:\n",
    "                    summer_usage += 1\n",
    "                elif  9<=int(row['month'])<=11:\n",
    "                    fall_usage += 1  \n",
    "                else:\n",
    "                    winter_usage += 1         \n",
    "        #total usage of bike \n",
    "        total_usage = spring_usage + summer_usage + fall_usage + winter_usage\n",
    "        percent_usage = []\n",
    "        #calculate propotion of usage for each season\n",
    "        percent_usage.append(round(cal_proportion(spring_usage,total_usage),2))\n",
    "        percent_usage.append(round(cal_proportion(summer_usage,total_usage),2))\n",
    "        percent_usage.append(round(cal_proportion(fall_usage,total_usage),2))\n",
    "        percent_usage.append(round(cal_proportion(winter_usage,total_usage),2))\n",
    "        # return tallies as a tuple\n",
    "        return (tuple(percent_usage))  "
   ]
  },
  {
   "cell_type": "code",
   "execution_count": 6,
   "metadata": {},
   "outputs": [
    {
     "name": "stdout",
     "output_type": "stream",
     "text": [
      "City: Washington\n",
      "Subscribers usage(spring/summer/fall/winter)(25.72, 31.23, 28.16, 14.89)\n",
      "Consumer usage(spring/summer/fall/winter)(24.9, 39.11, 29.57, 6.43)\n"
     ]
    },
    {
     "data": {
      "image/png": "[encoded data removed]",
      "text/plain": [
       "<matplotlib.figure.Figure at 0x7fc262d88160>"
      ]
     },
     "metadata": {},
     "output_type": "display_data"
    },
    {
     "name": "stdout",
     "output_type": "stream",
     "text": [
      "City: Chicago\n",
      "Subscribers usage(spring/summer/fall/winter)(21.65, 38.55, 29.39, 10.41)\n",
      "Consumer usage(spring/summer/fall/winter)(20.96, 50.69, 26.32, 2.04)\n"
     ]
    },
    {
     "data": {
      "image/png": "[encoded data removed]",
      "text/plain": [
       "<matplotlib.figure.Figure at 0x7fc2600655f8>"
      ]
     },
     "metadata": {},
     "output_type": "display_data"
    },
    {
     "name": "stdout",
     "output_type": "stream",
     "text": [
      "City: NYC\n",
      "Subscribers usage(spring/summer/fall/winter)(22.49, 31.05, 31.95, 14.52)\n",
      "Consumer usage(spring/summer/fall/winter)(25.58, 38.17, 30.48, 5.77)\n"
     ]
    },
    {
     "data": {
      "image/png": "[encoded data removed]",
      "text/plain": [
       "<matplotlib.figure.Figure at 0x7fc255ca74e0>"
      ]
     },
     "metadata": {},
     "output_type": "display_data"
    },
    {
     "name": "stdout",
     "output_type": "stream",
     "text": [
      "City: Bay Area\n",
      "Subscribers usage(spring/summer/fall/winter)(25.1, 27.32, 26.86, 20.72)\n",
      "Consumer usage(spring/summer/fall/winter)(27.33, 28.91, 28.59, 15.17)\n"
     ]
    },
    {
     "data": {
      "image/png": "[encoded data removed]",
      "text/plain": [
       "<matplotlib.figure.Figure at 0x7fc255c9e780>"
      ]
     },
     "metadata": {},
     "output_type": "display_data"
    }
   ],
   "source": [
    "city_data_file = {'Washington':  './data/Washington-2016-Summary.csv',\n",
    "                  'Chicago':'./data/Chicago-2016-Summary.csv',\n",
    "                  'NYC': './data/NYC-2016-Summary.csv',\n",
    "                  'Bay Area': './examples/BayArea-Y3-Summary.csv'}\n",
    "\n",
    "for city, filename in city_data_file.items():\n",
    "    print('City: {}'.format(city)) \n",
    "    #Obatin usage proportion for each season\n",
    "    Subscriber_seasonal_ridership = number_of_seasonal_trips(filename,'Subscriber')\n",
    "    Customer_seasonal_ridership = number_of_seasonal_trips(filename,'Customer')\n",
    "    print ('Subscribers usage(spring/summer/fall/winter) %{}'.format(Subscriber_seasonal_ridership))\n",
    "    print ('Consumer usage(spring/summer/fall/winter) %{}'.format(Customer_seasonal_ridership))\n",
    "    # create plot\n",
    "    index = np.arange(len(Subscriber_seasonal_ridership))\n",
    "    bar_width = 0.35\n",
    "    opacity = 0.8\n",
    "    dim = bar_width / 2\n",
    " \n",
    "    plt.bar(index, Subscriber_seasonal_ridership, bar_width, alpha=opacity, color='b', label='Subscriber')\n",
    " \n",
    "    plt.bar(index + bar_width, Customer_seasonal_ridership, bar_width, alpha=opacity, color='g', label='Customer')\n",
    " \n",
    "    plt.xlabel('Seasons')\n",
    "    plt.ylabel('% of Bike Usage ')\n",
    "    plt.title('Bike Usage over season by user type')\n",
    "    plt.xticks(index+dim, ('Spring', 'Summer', 'Fall', 'Winter'))\n",
    "    plt.legend()\n",
    " \n",
    "    plt.tight_layout()\n",
    "    plt.show()\n",
    "   "
   ]
  },
  {
   "cell_type": "markdown",
   "metadata": {},
   "source": [
    "A bar chart is used to display the proportion of ridership across seasons(Fall, Wineter, Spring and Summer) of a year for Subscriber and Customer. In all 3 cities Summer is popular time and Winter is when system is less likely used by both the rider types. Ridership of Customer exceeds Subscriber in Summer  but it is reversed in \n",
    "Winter where Subscriber ridership is higher than Customer. In Fall and Spring ridership remain fairly same or differ by 5% more less between Subscriber and Customer.\n"
   ]
  },
  {
   "cell_type": "markdown",
   "metadata": {},
   "source": [
    "Resources\n",
    "https://www.tutorialspoint.com/python/python_tuples.htm\n",
    "https://www.programiz.com/python-programming/dictionary\n",
    "https://docs.python.org/2/library/calendar.html\n",
    "https://www.youtube.com/watch?v=in8LJ-aR8T8\n",
    "https://matplotlib.org/devdocs/gallery/scales/log_bar.html#sphx-glr-gallery-scales-log-bar-py"
   ]
  },
  {
   "cell_type": "markdown",
   "metadata": {},
   "source": [
    "<a id='conclusions'></a>\n",
    "## Conclusions\n",
    "\n",
    "Congratulations on completing the project! This is only a sampling of the data analysis process: from generating questions, wrangling the data, and to exploring the data. Normally, at this point in the data analysis process, you might want to draw conclusions about the data by performing a statistical test or fitting the data to a model for making predictions. There are also a lot of potential analyses that could be performed on the data which are not possible with only the data provided. For example, detailed location data has not been investigated. Where are the most commonly used docks? What are the most common routes? As another example, weather has potential to have a large impact on daily ridership. How much is ridership impacted when there is rain or snow? Are subscribers or customers affected more by changes in weather?\n",
    "\n",
    "**Question 7**: Putting the bike share data aside, think of a topic or field of interest where you would like to be able to apply the techniques of data science. What would you like to be able to learn from your chosen subject?\n",
    "\n",
    "**Answer**: I would like to learn about trends in early childhood education using techniques of data science. How is education  viewed at early stage of childhood. Do parents prefer to start academic education at this stage or wait till they turn 5 ? Does parents background, ethinicity and other factors effect the decisions ? Other than regular academic style there are other education systems like Raggio and Waldrof that are coming to notice. How many schools are trying these new education system? Is there a growing trend for these types of schools? In order to learn about growing trends in early childhood education the data must be collected from schools and by conducting surveys.\n",
    "\n",
    "I would like to known public transportation\n",
    "In different cities across \n",
    "\n",
    "> **Tip**: If we want to share the results of our analysis with others, we aren't limited to giving them a copy of the jupyter Notebook (.ipynb) file. We can also export the Notebook output in a form that can be opened even for those without Python installed. From the **File** menu in the upper left, go to the **Download as** submenu. You can then choose a different format that can be viewed more generally, such as HTML (.html) or\n",
    "PDF (.pdf). You may need additional packages or software to perform these exports."
   ]
  }
 ],
 "metadata": {
  "anaconda-cloud": {},
  "kernelspec": {
   "display_name": "Python 3",
   "language": "python",
   "name": "python3"
  },
  "language_info": {
   "codemirror_mode": {
    "name": "ipython",
    "version": 3
   },
   "file_extension": ".py",
   "mimetype": "text/x-python",
   "name": "python",
   "nbconvert_exporter": "python",
   "pygments_lexer": "ipython3",
   "version": "3.6.1"
  }
 },
 "nbformat": 4,
 "nbformat_minor": 1
}
